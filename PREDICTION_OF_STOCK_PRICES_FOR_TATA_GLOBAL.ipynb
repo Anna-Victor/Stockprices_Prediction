{
  "cells": [
    {
      "cell_type": "markdown",
      "metadata": {
        "id": "view-in-github",
        "colab_type": "text"
      },
      "source": [
        "<a href=\"https://colab.research.google.com/github/Anna-Victor/Stockprices_Prediction/blob/main/PREDICTION_OF_STOCK_PRICES_FOR_TATA_GLOBAL.ipynb\" target=\"_parent\"><img src=\"https://colab.research.google.com/assets/colab-badge.svg\" alt=\"Open In Colab\"/></a>"
      ]
    },
    {
      "cell_type": "markdown",
      "metadata": {
        "id": "BoQzQwQnLl5O"
      },
      "source": [
        "PREDICTION OF BOMBAY STOCK PRICES USING DATASET FROM KAGGLE ON TATAGLOBAL BOMBAY STOCK EXCHANGE(BSE) HISTORICAL STOCK PRICES FROM THE YEAR 2013 TO 2018"
      ]
    },
    {
      "cell_type": "markdown",
      "metadata": {
        "id": "WR_98vjKLw5s"
      },
      "source": [
        "Importing necessary libraries, Loading and Reading the Data"
      ]
    },
    {
      "cell_type": "code",
      "execution_count": null,
      "metadata": {
        "id": "Ur2P7IQtIEXM"
      },
      "outputs": [],
      "source": [
        "# Importing the necessary libraries\n",
        "import numpy as np\n",
        "import pandas as pd\n",
        "import matplotlib.pyplot as plt\n",
        "import seaborn as sns"
      ]
    },
    {
      "cell_type": "code",
      "execution_count": null,
      "metadata": {
        "colab": {
          "base_uri": "https://localhost:8080/"
        },
        "id": "YEEpssOHJqFv",
        "outputId": "00e2850a-f78a-40cb-d222-4911c415b30b"
      },
      "outputs": [
        {
          "name": "stdout",
          "output_type": "stream",
          "text": [
            "Mounted at /content/drive\n"
          ]
        }
      ],
      "source": [
        "# Imporing the data from drive\n",
        "from google.colab import drive\n",
        "drive.mount('/content/drive')"
      ]
    },
    {
      "cell_type": "code",
      "execution_count": null,
      "metadata": {
        "colab": {
          "background_save": true,
          "base_uri": "https://localhost:8080/"
        },
        "id": "bwoud-69JzLw",
        "outputId": "d9f30bb3-b22f-4cd5-e30c-1cad6b9edfe5"
      },
      "outputs": [
        {
          "name": "stdout",
          "output_type": "stream",
          "text": [
            "            Date    Open    High  ...   Close  Total Trade Quantity  Turnover (Lacs)\n",
            "0     2018-10-08  208.00  222.25  ...  215.15               4642146         10062.83\n",
            "1     2018-10-05  217.00  218.60  ...  209.20               3519515          7407.06\n",
            "2     2018-10-04  223.50  227.80  ...  218.20               1728786          3815.79\n",
            "3     2018-10-03  230.00  237.50  ...  227.60               1708590          3960.27\n",
            "4     2018-10-01  234.55  234.60  ...  230.90               1534749          3486.05\n",
            "...          ...     ...     ...  ...     ...                   ...              ...\n",
            "1230  2013-10-14  160.85  161.45  ...  159.45               1281419          2039.09\n",
            "1231  2013-10-11  161.15  163.45  ...  160.05               1880046          3030.76\n",
            "1232  2013-10-10  156.00  160.80  ...  160.15               3124853          4978.80\n",
            "1233  2013-10-09  155.70  158.20  ...  155.55               2049580          3204.49\n",
            "1234  2013-10-08  157.00  157.80  ...  155.80               1720413          2688.94\n",
            "\n",
            "[1235 rows x 8 columns]\n"
          ]
        }
      ],
      "source": [
        "# Reading and printing the data\n",
        "Stockprices = pd.read_csv('/content/drive/My Drive/NSE-TATAGLOBAL11 2.csv')\n",
        "print(Stockprices)"
      ]
    },
    {
      "cell_type": "markdown",
      "metadata": {
        "id": "hXCQmqoGL3yG"
      },
      "source": [
        "Understanding the Data"
      ]
    },
    {
      "cell_type": "code",
      "execution_count": null,
      "metadata": {
        "colab": {
          "base_uri": "https://localhost:8080/"
        },
        "id": "EVWGUPBgKeFC",
        "outputId": "c85f1b54-5624-46c1-bb22-c5cb9861378b"
      },
      "outputs": [
        {
          "name": "stdout",
          "output_type": "stream",
          "text": [
            "<class 'pandas.core.frame.DataFrame'>\n",
            "RangeIndex: 1235 entries, 0 to 1234\n",
            "Data columns (total 8 columns):\n",
            " #   Column                Non-Null Count  Dtype  \n",
            "---  ------                --------------  -----  \n",
            " 0   Date                  1235 non-null   object \n",
            " 1   Open                  1235 non-null   float64\n",
            " 2   High                  1235 non-null   float64\n",
            " 3   Low                   1235 non-null   float64\n",
            " 4   Last                  1235 non-null   float64\n",
            " 5   Close                 1235 non-null   float64\n",
            " 6   Total Trade Quantity  1235 non-null   int64  \n",
            " 7   Turnover (Lacs)       1235 non-null   float64\n",
            "dtypes: float64(6), int64(1), object(1)\n",
            "memory usage: 77.3+ KB\n"
          ]
        }
      ],
      "source": [
        "Stockprices.info()"
      ]
    },
    {
      "cell_type": "code",
      "execution_count": null,
      "metadata": {
        "colab": {
          "base_uri": "https://localhost:8080/",
          "height": 297
        },
        "id": "aPGqVugdKjEk",
        "outputId": "e23551d8-b63d-4208-f88f-c2b08b7fb2bd"
      },
      "outputs": [
        {
          "data": {
            "text/html": [
              "<div>\n",
              "<style scoped>\n",
              "    .dataframe tbody tr th:only-of-type {\n",
              "        vertical-align: middle;\n",
              "    }\n",
              "\n",
              "    .dataframe tbody tr th {\n",
              "        vertical-align: top;\n",
              "    }\n",
              "\n",
              "    .dataframe thead th {\n",
              "        text-align: right;\n",
              "    }\n",
              "</style>\n",
              "<table border=\"1\" class=\"dataframe\">\n",
              "  <thead>\n",
              "    <tr style=\"text-align: right;\">\n",
              "      <th></th>\n",
              "      <th>Open</th>\n",
              "      <th>High</th>\n",
              "      <th>Low</th>\n",
              "      <th>Last</th>\n",
              "      <th>Close</th>\n",
              "      <th>Total Trade Quantity</th>\n",
              "      <th>Turnover (Lacs)</th>\n",
              "    </tr>\n",
              "  </thead>\n",
              "  <tbody>\n",
              "    <tr>\n",
              "      <th>count</th>\n",
              "      <td>1235.000000</td>\n",
              "      <td>1235.000000</td>\n",
              "      <td>1235.000000</td>\n",
              "      <td>1235.000000</td>\n",
              "      <td>1235.000000</td>\n",
              "      <td>1.235000e+03</td>\n",
              "      <td>1235.000000</td>\n",
              "    </tr>\n",
              "    <tr>\n",
              "      <th>mean</th>\n",
              "      <td>168.954858</td>\n",
              "      <td>171.429069</td>\n",
              "      <td>166.402308</td>\n",
              "      <td>168.736356</td>\n",
              "      <td>168.731053</td>\n",
              "      <td>2.604151e+06</td>\n",
              "      <td>4843.166502</td>\n",
              "    </tr>\n",
              "    <tr>\n",
              "      <th>std</th>\n",
              "      <td>51.499145</td>\n",
              "      <td>52.436761</td>\n",
              "      <td>50.542919</td>\n",
              "      <td>51.587384</td>\n",
              "      <td>51.544928</td>\n",
              "      <td>2.277028e+06</td>\n",
              "      <td>5348.919832</td>\n",
              "    </tr>\n",
              "    <tr>\n",
              "      <th>min</th>\n",
              "      <td>103.000000</td>\n",
              "      <td>104.600000</td>\n",
              "      <td>100.000000</td>\n",
              "      <td>102.600000</td>\n",
              "      <td>102.650000</td>\n",
              "      <td>1.001800e+05</td>\n",
              "      <td>128.040000</td>\n",
              "    </tr>\n",
              "    <tr>\n",
              "      <th>25%</th>\n",
              "      <td>137.550000</td>\n",
              "      <td>138.925000</td>\n",
              "      <td>135.250000</td>\n",
              "      <td>137.175000</td>\n",
              "      <td>137.225000</td>\n",
              "      <td>1.284482e+06</td>\n",
              "      <td>1801.035000</td>\n",
              "    </tr>\n",
              "    <tr>\n",
              "      <th>50%</th>\n",
              "      <td>151.500000</td>\n",
              "      <td>153.250000</td>\n",
              "      <td>149.500000</td>\n",
              "      <td>151.200000</td>\n",
              "      <td>151.100000</td>\n",
              "      <td>1.964885e+06</td>\n",
              "      <td>3068.510000</td>\n",
              "    </tr>\n",
              "    <tr>\n",
              "      <th>75%</th>\n",
              "      <td>169.000000</td>\n",
              "      <td>172.325000</td>\n",
              "      <td>166.700000</td>\n",
              "      <td>169.100000</td>\n",
              "      <td>169.500000</td>\n",
              "      <td>3.095788e+06</td>\n",
              "      <td>5852.600000</td>\n",
              "    </tr>\n",
              "    <tr>\n",
              "      <th>max</th>\n",
              "      <td>327.700000</td>\n",
              "      <td>328.750000</td>\n",
              "      <td>321.650000</td>\n",
              "      <td>325.950000</td>\n",
              "      <td>325.750000</td>\n",
              "      <td>2.919102e+07</td>\n",
              "      <td>55755.080000</td>\n",
              "    </tr>\n",
              "  </tbody>\n",
              "</table>\n",
              "</div>"
            ],
            "text/plain": [
              "              Open         High  ...  Total Trade Quantity  Turnover (Lacs)\n",
              "count  1235.000000  1235.000000  ...          1.235000e+03      1235.000000\n",
              "mean    168.954858   171.429069  ...          2.604151e+06      4843.166502\n",
              "std      51.499145    52.436761  ...          2.277028e+06      5348.919832\n",
              "min     103.000000   104.600000  ...          1.001800e+05       128.040000\n",
              "25%     137.550000   138.925000  ...          1.284482e+06      1801.035000\n",
              "50%     151.500000   153.250000  ...          1.964885e+06      3068.510000\n",
              "75%     169.000000   172.325000  ...          3.095788e+06      5852.600000\n",
              "max     327.700000   328.750000  ...          2.919102e+07     55755.080000\n",
              "\n",
              "[8 rows x 7 columns]"
            ]
          },
          "execution_count": 6,
          "metadata": {},
          "output_type": "execute_result"
        }
      ],
      "source": [
        "Stockprices.describe()"
      ]
    },
    {
      "cell_type": "code",
      "execution_count": null,
      "metadata": {
        "colab": {
          "base_uri": "https://localhost:8080/",
          "height": 204
        },
        "id": "6AnpMeuQKnm_",
        "outputId": "33799f91-f92b-4dcc-a858-4ae41d19bcfa"
      },
      "outputs": [
        {
          "data": {
            "text/html": [
              "<div>\n",
              "<style scoped>\n",
              "    .dataframe tbody tr th:only-of-type {\n",
              "        vertical-align: middle;\n",
              "    }\n",
              "\n",
              "    .dataframe tbody tr th {\n",
              "        vertical-align: top;\n",
              "    }\n",
              "\n",
              "    .dataframe thead th {\n",
              "        text-align: right;\n",
              "    }\n",
              "</style>\n",
              "<table border=\"1\" class=\"dataframe\">\n",
              "  <thead>\n",
              "    <tr style=\"text-align: right;\">\n",
              "      <th></th>\n",
              "      <th>Date</th>\n",
              "      <th>Open</th>\n",
              "      <th>High</th>\n",
              "      <th>Low</th>\n",
              "      <th>Last</th>\n",
              "      <th>Close</th>\n",
              "      <th>Total Trade Quantity</th>\n",
              "      <th>Turnover (Lacs)</th>\n",
              "    </tr>\n",
              "  </thead>\n",
              "  <tbody>\n",
              "    <tr>\n",
              "      <th>0</th>\n",
              "      <td>2018-10-08</td>\n",
              "      <td>208.00</td>\n",
              "      <td>222.25</td>\n",
              "      <td>206.85</td>\n",
              "      <td>216.00</td>\n",
              "      <td>215.15</td>\n",
              "      <td>4642146</td>\n",
              "      <td>10062.83</td>\n",
              "    </tr>\n",
              "    <tr>\n",
              "      <th>1</th>\n",
              "      <td>2018-10-05</td>\n",
              "      <td>217.00</td>\n",
              "      <td>218.60</td>\n",
              "      <td>205.90</td>\n",
              "      <td>210.25</td>\n",
              "      <td>209.20</td>\n",
              "      <td>3519515</td>\n",
              "      <td>7407.06</td>\n",
              "    </tr>\n",
              "    <tr>\n",
              "      <th>2</th>\n",
              "      <td>2018-10-04</td>\n",
              "      <td>223.50</td>\n",
              "      <td>227.80</td>\n",
              "      <td>216.15</td>\n",
              "      <td>217.25</td>\n",
              "      <td>218.20</td>\n",
              "      <td>1728786</td>\n",
              "      <td>3815.79</td>\n",
              "    </tr>\n",
              "    <tr>\n",
              "      <th>3</th>\n",
              "      <td>2018-10-03</td>\n",
              "      <td>230.00</td>\n",
              "      <td>237.50</td>\n",
              "      <td>225.75</td>\n",
              "      <td>226.45</td>\n",
              "      <td>227.60</td>\n",
              "      <td>1708590</td>\n",
              "      <td>3960.27</td>\n",
              "    </tr>\n",
              "    <tr>\n",
              "      <th>4</th>\n",
              "      <td>2018-10-01</td>\n",
              "      <td>234.55</td>\n",
              "      <td>234.60</td>\n",
              "      <td>221.05</td>\n",
              "      <td>230.30</td>\n",
              "      <td>230.90</td>\n",
              "      <td>1534749</td>\n",
              "      <td>3486.05</td>\n",
              "    </tr>\n",
              "  </tbody>\n",
              "</table>\n",
              "</div>"
            ],
            "text/plain": [
              "         Date    Open    High  ...   Close  Total Trade Quantity  Turnover (Lacs)\n",
              "0  2018-10-08  208.00  222.25  ...  215.15               4642146         10062.83\n",
              "1  2018-10-05  217.00  218.60  ...  209.20               3519515          7407.06\n",
              "2  2018-10-04  223.50  227.80  ...  218.20               1728786          3815.79\n",
              "3  2018-10-03  230.00  237.50  ...  227.60               1708590          3960.27\n",
              "4  2018-10-01  234.55  234.60  ...  230.90               1534749          3486.05\n",
              "\n",
              "[5 rows x 8 columns]"
            ]
          },
          "execution_count": 7,
          "metadata": {},
          "output_type": "execute_result"
        }
      ],
      "source": [
        "Stockprices.head()"
      ]
    },
    {
      "cell_type": "code",
      "execution_count": null,
      "metadata": {
        "colab": {
          "base_uri": "https://localhost:8080/",
          "height": 204
        },
        "id": "m3ZQ3O0SKq3p",
        "outputId": "d1abffa7-e348-43df-e7af-d9c1c787361e"
      },
      "outputs": [
        {
          "data": {
            "text/html": [
              "<div>\n",
              "<style scoped>\n",
              "    .dataframe tbody tr th:only-of-type {\n",
              "        vertical-align: middle;\n",
              "    }\n",
              "\n",
              "    .dataframe tbody tr th {\n",
              "        vertical-align: top;\n",
              "    }\n",
              "\n",
              "    .dataframe thead th {\n",
              "        text-align: right;\n",
              "    }\n",
              "</style>\n",
              "<table border=\"1\" class=\"dataframe\">\n",
              "  <thead>\n",
              "    <tr style=\"text-align: right;\">\n",
              "      <th></th>\n",
              "      <th>Date</th>\n",
              "      <th>Open</th>\n",
              "      <th>High</th>\n",
              "      <th>Low</th>\n",
              "      <th>Last</th>\n",
              "      <th>Close</th>\n",
              "      <th>Total Trade Quantity</th>\n",
              "      <th>Turnover (Lacs)</th>\n",
              "    </tr>\n",
              "  </thead>\n",
              "  <tbody>\n",
              "    <tr>\n",
              "      <th>1230</th>\n",
              "      <td>2013-10-14</td>\n",
              "      <td>160.85</td>\n",
              "      <td>161.45</td>\n",
              "      <td>157.70</td>\n",
              "      <td>159.3</td>\n",
              "      <td>159.45</td>\n",
              "      <td>1281419</td>\n",
              "      <td>2039.09</td>\n",
              "    </tr>\n",
              "    <tr>\n",
              "      <th>1231</th>\n",
              "      <td>2013-10-11</td>\n",
              "      <td>161.15</td>\n",
              "      <td>163.45</td>\n",
              "      <td>159.00</td>\n",
              "      <td>159.8</td>\n",
              "      <td>160.05</td>\n",
              "      <td>1880046</td>\n",
              "      <td>3030.76</td>\n",
              "    </tr>\n",
              "    <tr>\n",
              "      <th>1232</th>\n",
              "      <td>2013-10-10</td>\n",
              "      <td>156.00</td>\n",
              "      <td>160.80</td>\n",
              "      <td>155.85</td>\n",
              "      <td>160.3</td>\n",
              "      <td>160.15</td>\n",
              "      <td>3124853</td>\n",
              "      <td>4978.80</td>\n",
              "    </tr>\n",
              "    <tr>\n",
              "      <th>1233</th>\n",
              "      <td>2013-10-09</td>\n",
              "      <td>155.70</td>\n",
              "      <td>158.20</td>\n",
              "      <td>154.15</td>\n",
              "      <td>155.3</td>\n",
              "      <td>155.55</td>\n",
              "      <td>2049580</td>\n",
              "      <td>3204.49</td>\n",
              "    </tr>\n",
              "    <tr>\n",
              "      <th>1234</th>\n",
              "      <td>2013-10-08</td>\n",
              "      <td>157.00</td>\n",
              "      <td>157.80</td>\n",
              "      <td>155.20</td>\n",
              "      <td>155.8</td>\n",
              "      <td>155.80</td>\n",
              "      <td>1720413</td>\n",
              "      <td>2688.94</td>\n",
              "    </tr>\n",
              "  </tbody>\n",
              "</table>\n",
              "</div>"
            ],
            "text/plain": [
              "            Date    Open    High  ...   Close  Total Trade Quantity  Turnover (Lacs)\n",
              "1230  2013-10-14  160.85  161.45  ...  159.45               1281419          2039.09\n",
              "1231  2013-10-11  161.15  163.45  ...  160.05               1880046          3030.76\n",
              "1232  2013-10-10  156.00  160.80  ...  160.15               3124853          4978.80\n",
              "1233  2013-10-09  155.70  158.20  ...  155.55               2049580          3204.49\n",
              "1234  2013-10-08  157.00  157.80  ...  155.80               1720413          2688.94\n",
              "\n",
              "[5 rows x 8 columns]"
            ]
          },
          "execution_count": 8,
          "metadata": {},
          "output_type": "execute_result"
        }
      ],
      "source": [
        "Stockprices.tail()"
      ]
    },
    {
      "cell_type": "code",
      "execution_count": null,
      "metadata": {
        "colab": {
          "base_uri": "https://localhost:8080/"
        },
        "id": "o4Whbk-HKva9",
        "outputId": "68b560a8-b8c8-4339-dc4d-7627fdc413af"
      },
      "outputs": [
        {
          "name": "stdout",
          "output_type": "stream",
          "text": [
            "9880\n",
            "(1235, 8)\n",
            "2\n"
          ]
        }
      ],
      "source": [
        "l = Stockprices.size\n",
        "print(l)\n",
        "a = Stockprices.shape\n",
        "print(a)\n",
        "c = Stockprices.ndim\n",
        "print(c)"
      ]
    },
    {
      "cell_type": "markdown",
      "metadata": {
        "id": "GO9vqpWALMIl"
      },
      "source": [
        "Checking for null and missing values and Cleaning the data"
      ]
    },
    {
      "cell_type": "code",
      "execution_count": null,
      "metadata": {
        "colab": {
          "base_uri": "https://localhost:8080/",
          "height": 419
        },
        "id": "DcAIj_38Ky_v",
        "outputId": "308910e1-2c44-40e6-ed4a-e885be46bc58"
      },
      "outputs": [
        {
          "data": {
            "text/html": [
              "<div>\n",
              "<style scoped>\n",
              "    .dataframe tbody tr th:only-of-type {\n",
              "        vertical-align: middle;\n",
              "    }\n",
              "\n",
              "    .dataframe tbody tr th {\n",
              "        vertical-align: top;\n",
              "    }\n",
              "\n",
              "    .dataframe thead th {\n",
              "        text-align: right;\n",
              "    }\n",
              "</style>\n",
              "<table border=\"1\" class=\"dataframe\">\n",
              "  <thead>\n",
              "    <tr style=\"text-align: right;\">\n",
              "      <th></th>\n",
              "      <th>Date</th>\n",
              "      <th>Open</th>\n",
              "      <th>High</th>\n",
              "      <th>Low</th>\n",
              "      <th>Last</th>\n",
              "      <th>Close</th>\n",
              "      <th>Total Trade Quantity</th>\n",
              "      <th>Turnover (Lacs)</th>\n",
              "    </tr>\n",
              "  </thead>\n",
              "  <tbody>\n",
              "    <tr>\n",
              "      <th>0</th>\n",
              "      <td>False</td>\n",
              "      <td>False</td>\n",
              "      <td>False</td>\n",
              "      <td>False</td>\n",
              "      <td>False</td>\n",
              "      <td>False</td>\n",
              "      <td>False</td>\n",
              "      <td>False</td>\n",
              "    </tr>\n",
              "    <tr>\n",
              "      <th>1</th>\n",
              "      <td>False</td>\n",
              "      <td>False</td>\n",
              "      <td>False</td>\n",
              "      <td>False</td>\n",
              "      <td>False</td>\n",
              "      <td>False</td>\n",
              "      <td>False</td>\n",
              "      <td>False</td>\n",
              "    </tr>\n",
              "    <tr>\n",
              "      <th>2</th>\n",
              "      <td>False</td>\n",
              "      <td>False</td>\n",
              "      <td>False</td>\n",
              "      <td>False</td>\n",
              "      <td>False</td>\n",
              "      <td>False</td>\n",
              "      <td>False</td>\n",
              "      <td>False</td>\n",
              "    </tr>\n",
              "    <tr>\n",
              "      <th>3</th>\n",
              "      <td>False</td>\n",
              "      <td>False</td>\n",
              "      <td>False</td>\n",
              "      <td>False</td>\n",
              "      <td>False</td>\n",
              "      <td>False</td>\n",
              "      <td>False</td>\n",
              "      <td>False</td>\n",
              "    </tr>\n",
              "    <tr>\n",
              "      <th>4</th>\n",
              "      <td>False</td>\n",
              "      <td>False</td>\n",
              "      <td>False</td>\n",
              "      <td>False</td>\n",
              "      <td>False</td>\n",
              "      <td>False</td>\n",
              "      <td>False</td>\n",
              "      <td>False</td>\n",
              "    </tr>\n",
              "    <tr>\n",
              "      <th>...</th>\n",
              "      <td>...</td>\n",
              "      <td>...</td>\n",
              "      <td>...</td>\n",
              "      <td>...</td>\n",
              "      <td>...</td>\n",
              "      <td>...</td>\n",
              "      <td>...</td>\n",
              "      <td>...</td>\n",
              "    </tr>\n",
              "    <tr>\n",
              "      <th>1230</th>\n",
              "      <td>False</td>\n",
              "      <td>False</td>\n",
              "      <td>False</td>\n",
              "      <td>False</td>\n",
              "      <td>False</td>\n",
              "      <td>False</td>\n",
              "      <td>False</td>\n",
              "      <td>False</td>\n",
              "    </tr>\n",
              "    <tr>\n",
              "      <th>1231</th>\n",
              "      <td>False</td>\n",
              "      <td>False</td>\n",
              "      <td>False</td>\n",
              "      <td>False</td>\n",
              "      <td>False</td>\n",
              "      <td>False</td>\n",
              "      <td>False</td>\n",
              "      <td>False</td>\n",
              "    </tr>\n",
              "    <tr>\n",
              "      <th>1232</th>\n",
              "      <td>False</td>\n",
              "      <td>False</td>\n",
              "      <td>False</td>\n",
              "      <td>False</td>\n",
              "      <td>False</td>\n",
              "      <td>False</td>\n",
              "      <td>False</td>\n",
              "      <td>False</td>\n",
              "    </tr>\n",
              "    <tr>\n",
              "      <th>1233</th>\n",
              "      <td>False</td>\n",
              "      <td>False</td>\n",
              "      <td>False</td>\n",
              "      <td>False</td>\n",
              "      <td>False</td>\n",
              "      <td>False</td>\n",
              "      <td>False</td>\n",
              "      <td>False</td>\n",
              "    </tr>\n",
              "    <tr>\n",
              "      <th>1234</th>\n",
              "      <td>False</td>\n",
              "      <td>False</td>\n",
              "      <td>False</td>\n",
              "      <td>False</td>\n",
              "      <td>False</td>\n",
              "      <td>False</td>\n",
              "      <td>False</td>\n",
              "      <td>False</td>\n",
              "    </tr>\n",
              "  </tbody>\n",
              "</table>\n",
              "<p>1235 rows × 8 columns</p>\n",
              "</div>"
            ],
            "text/plain": [
              "       Date   Open   High  ...  Close  Total Trade Quantity  Turnover (Lacs)\n",
              "0     False  False  False  ...  False                 False            False\n",
              "1     False  False  False  ...  False                 False            False\n",
              "2     False  False  False  ...  False                 False            False\n",
              "3     False  False  False  ...  False                 False            False\n",
              "4     False  False  False  ...  False                 False            False\n",
              "...     ...    ...    ...  ...    ...                   ...              ...\n",
              "1230  False  False  False  ...  False                 False            False\n",
              "1231  False  False  False  ...  False                 False            False\n",
              "1232  False  False  False  ...  False                 False            False\n",
              "1233  False  False  False  ...  False                 False            False\n",
              "1234  False  False  False  ...  False                 False            False\n",
              "\n",
              "[1235 rows x 8 columns]"
            ]
          },
          "execution_count": 10,
          "metadata": {},
          "output_type": "execute_result"
        }
      ],
      "source": [
        "Stockprices.isnull()"
      ]
    },
    {
      "cell_type": "code",
      "execution_count": null,
      "metadata": {
        "colab": {
          "base_uri": "https://localhost:8080/",
          "height": 419
        },
        "id": "07a1zgdjLHjW",
        "outputId": "0bf25f2b-3f7a-410f-9074-399f120739c9"
      },
      "outputs": [
        {
          "data": {
            "text/html": [
              "<div>\n",
              "<style scoped>\n",
              "    .dataframe tbody tr th:only-of-type {\n",
              "        vertical-align: middle;\n",
              "    }\n",
              "\n",
              "    .dataframe tbody tr th {\n",
              "        vertical-align: top;\n",
              "    }\n",
              "\n",
              "    .dataframe thead th {\n",
              "        text-align: right;\n",
              "    }\n",
              "</style>\n",
              "<table border=\"1\" class=\"dataframe\">\n",
              "  <thead>\n",
              "    <tr style=\"text-align: right;\">\n",
              "      <th></th>\n",
              "      <th>Date</th>\n",
              "      <th>Open</th>\n",
              "      <th>High</th>\n",
              "      <th>Low</th>\n",
              "      <th>Last</th>\n",
              "      <th>Close</th>\n",
              "      <th>Total Trade Quantity</th>\n",
              "      <th>Turnover (Lacs)</th>\n",
              "    </tr>\n",
              "  </thead>\n",
              "  <tbody>\n",
              "    <tr>\n",
              "      <th>0</th>\n",
              "      <td>True</td>\n",
              "      <td>True</td>\n",
              "      <td>True</td>\n",
              "      <td>True</td>\n",
              "      <td>True</td>\n",
              "      <td>True</td>\n",
              "      <td>True</td>\n",
              "      <td>True</td>\n",
              "    </tr>\n",
              "    <tr>\n",
              "      <th>1</th>\n",
              "      <td>True</td>\n",
              "      <td>True</td>\n",
              "      <td>True</td>\n",
              "      <td>True</td>\n",
              "      <td>True</td>\n",
              "      <td>True</td>\n",
              "      <td>True</td>\n",
              "      <td>True</td>\n",
              "    </tr>\n",
              "    <tr>\n",
              "      <th>2</th>\n",
              "      <td>True</td>\n",
              "      <td>True</td>\n",
              "      <td>True</td>\n",
              "      <td>True</td>\n",
              "      <td>True</td>\n",
              "      <td>True</td>\n",
              "      <td>True</td>\n",
              "      <td>True</td>\n",
              "    </tr>\n",
              "    <tr>\n",
              "      <th>3</th>\n",
              "      <td>True</td>\n",
              "      <td>True</td>\n",
              "      <td>True</td>\n",
              "      <td>True</td>\n",
              "      <td>True</td>\n",
              "      <td>True</td>\n",
              "      <td>True</td>\n",
              "      <td>True</td>\n",
              "    </tr>\n",
              "    <tr>\n",
              "      <th>4</th>\n",
              "      <td>True</td>\n",
              "      <td>True</td>\n",
              "      <td>True</td>\n",
              "      <td>True</td>\n",
              "      <td>True</td>\n",
              "      <td>True</td>\n",
              "      <td>True</td>\n",
              "      <td>True</td>\n",
              "    </tr>\n",
              "    <tr>\n",
              "      <th>...</th>\n",
              "      <td>...</td>\n",
              "      <td>...</td>\n",
              "      <td>...</td>\n",
              "      <td>...</td>\n",
              "      <td>...</td>\n",
              "      <td>...</td>\n",
              "      <td>...</td>\n",
              "      <td>...</td>\n",
              "    </tr>\n",
              "    <tr>\n",
              "      <th>1230</th>\n",
              "      <td>True</td>\n",
              "      <td>True</td>\n",
              "      <td>True</td>\n",
              "      <td>True</td>\n",
              "      <td>True</td>\n",
              "      <td>True</td>\n",
              "      <td>True</td>\n",
              "      <td>True</td>\n",
              "    </tr>\n",
              "    <tr>\n",
              "      <th>1231</th>\n",
              "      <td>True</td>\n",
              "      <td>True</td>\n",
              "      <td>True</td>\n",
              "      <td>True</td>\n",
              "      <td>True</td>\n",
              "      <td>True</td>\n",
              "      <td>True</td>\n",
              "      <td>True</td>\n",
              "    </tr>\n",
              "    <tr>\n",
              "      <th>1232</th>\n",
              "      <td>True</td>\n",
              "      <td>True</td>\n",
              "      <td>True</td>\n",
              "      <td>True</td>\n",
              "      <td>True</td>\n",
              "      <td>True</td>\n",
              "      <td>True</td>\n",
              "      <td>True</td>\n",
              "    </tr>\n",
              "    <tr>\n",
              "      <th>1233</th>\n",
              "      <td>True</td>\n",
              "      <td>True</td>\n",
              "      <td>True</td>\n",
              "      <td>True</td>\n",
              "      <td>True</td>\n",
              "      <td>True</td>\n",
              "      <td>True</td>\n",
              "      <td>True</td>\n",
              "    </tr>\n",
              "    <tr>\n",
              "      <th>1234</th>\n",
              "      <td>True</td>\n",
              "      <td>True</td>\n",
              "      <td>True</td>\n",
              "      <td>True</td>\n",
              "      <td>True</td>\n",
              "      <td>True</td>\n",
              "      <td>True</td>\n",
              "      <td>True</td>\n",
              "    </tr>\n",
              "  </tbody>\n",
              "</table>\n",
              "<p>1235 rows × 8 columns</p>\n",
              "</div>"
            ],
            "text/plain": [
              "      Date  Open  High  ...  Close  Total Trade Quantity  Turnover (Lacs)\n",
              "0     True  True  True  ...   True                  True             True\n",
              "1     True  True  True  ...   True                  True             True\n",
              "2     True  True  True  ...   True                  True             True\n",
              "3     True  True  True  ...   True                  True             True\n",
              "4     True  True  True  ...   True                  True             True\n",
              "...    ...   ...   ...  ...    ...                   ...              ...\n",
              "1230  True  True  True  ...   True                  True             True\n",
              "1231  True  True  True  ...   True                  True             True\n",
              "1232  True  True  True  ...   True                  True             True\n",
              "1233  True  True  True  ...   True                  True             True\n",
              "1234  True  True  True  ...   True                  True             True\n",
              "\n",
              "[1235 rows x 8 columns]"
            ]
          },
          "execution_count": 11,
          "metadata": {},
          "output_type": "execute_result"
        }
      ],
      "source": [
        "Stockprices.notnull()"
      ]
    },
    {
      "cell_type": "markdown",
      "metadata": {
        "id": "920H08ldOOjV"
      },
      "source": [
        "Visualizing the Data"
      ]
    },
    {
      "cell_type": "markdown",
      "metadata": {
        "id": "5SubYRrnPCN6"
      },
      "source": [
        "Visualizing the Date and Closing prices of the Stocks"
      ]
    },
    {
      "cell_type": "code",
      "execution_count": null,
      "metadata": {
        "colab": {
          "base_uri": "https://localhost:8080/"
        },
        "id": "IlYkaDL5ORnC",
        "outputId": "1bcac999-9f74-486c-db14-2b518d8b600d"
      },
      "outputs": [
        {
          "name": "stdout",
          "output_type": "stream",
          "text": [
            "            Date   Close\n",
            "0     2018-10-08  215.15\n",
            "1     2018-10-05  209.20\n",
            "2     2018-10-04  218.20\n",
            "3     2018-10-03  227.60\n",
            "4     2018-10-01  230.90\n",
            "...          ...     ...\n",
            "1230  2013-10-14  159.45\n",
            "1231  2013-10-11  160.05\n",
            "1232  2013-10-10  160.15\n",
            "1233  2013-10-09  155.55\n",
            "1234  2013-10-08  155.80\n",
            "\n",
            "[1235 rows x 2 columns]\n"
          ]
        }
      ],
      "source": [
        "Stockprice = Stockprices[['Date','Close']]\n",
        "print(Stockprice)"
      ]
    },
    {
      "cell_type": "code",
      "execution_count": null,
      "metadata": {
        "colab": {
          "base_uri": "https://localhost:8080/"
        },
        "id": "tduaxm8vphWd",
        "outputId": "63c28ae6-01ea-4291-f061-b0c5d4f4a2cc"
      },
      "outputs": [
        {
          "name": "stdout",
          "output_type": "stream",
          "text": [
            "            Date    Open\n",
            "0     2018-10-08  208.00\n",
            "1     2018-10-05  217.00\n",
            "2     2018-10-04  223.50\n",
            "3     2018-10-03  230.00\n",
            "4     2018-10-01  234.55\n",
            "...          ...     ...\n",
            "1230  2013-10-14  160.85\n",
            "1231  2013-10-11  161.15\n",
            "1232  2013-10-10  156.00\n",
            "1233  2013-10-09  155.70\n",
            "1234  2013-10-08  157.00\n",
            "\n",
            "[1235 rows x 2 columns]\n"
          ]
        }
      ],
      "source": [
        "Stockpricess = Stockprices[['Date','Open']]\n",
        "print(Stockpricess)"
      ]
    },
    {
      "cell_type": "code",
      "execution_count": null,
      "metadata": {
        "colab": {
          "base_uri": "https://localhost:8080/",
          "height": 296
        },
        "id": "ZDTt3x4uQXA-",
        "outputId": "a7eafd03-4f8f-46ca-8c7b-7bf600f4fdd5"
      },
      "outputs": [
        {
          "data": {
            "text/plain": [
              "<Figure size 1440x1440 with 0 Axes>"
            ]
          },
          "metadata": {},
          "output_type": "display_data"
        },
        {
          "data": {
            "image/png": "[encoded data removed]",
            "text/plain": [
              "<Figure size 432x288 with 1 Axes>"
            ]
          },
          "metadata": {},
          "output_type": "display_data"
        }
      ],
      "source": [
        "plt.figure(figsize = (20,20))\n",
        "Stockprice.plot(x=\"Date\", y=\"Close\", kind=\"line\")\n",
        "plt.show()"
      ]
    },
    {
      "cell_type": "markdown",
      "metadata": {
        "id": "STWe2yHiRsqE"
      },
      "source": [
        "Visualizing the Openning and Closing Prices based on the Date"
      ]
    },
    {
      "cell_type": "code",
      "execution_count": null,
      "metadata": {
        "colab": {
          "base_uri": "https://localhost:8080/"
        },
        "id": "0_rMZQVzRrsV",
        "outputId": "12fa3761-3179-4f2e-dacf-8fa9ce8271ed"
      },
      "outputs": [
        {
          "name": "stdout",
          "output_type": "stream",
          "text": [
            "            Date    Open   Close\n",
            "0     2018-10-08  208.00  215.15\n",
            "1     2018-10-05  217.00  209.20\n",
            "2     2018-10-04  223.50  218.20\n",
            "3     2018-10-03  230.00  227.60\n",
            "4     2018-10-01  234.55  230.90\n",
            "...          ...     ...     ...\n",
            "1230  2013-10-14  160.85  159.45\n",
            "1231  2013-10-11  161.15  160.05\n",
            "1232  2013-10-10  156.00  160.15\n",
            "1233  2013-10-09  155.70  155.55\n",
            "1234  2013-10-08  157.00  155.80\n",
            "\n",
            "[1235 rows x 3 columns]\n"
          ]
        }
      ],
      "source": [
        "stockprice = Stockprices[['Date','Open','Close']]\n",
        "print(stockprice)"
      ]
    },
    {
      "cell_type": "code",
      "execution_count": null,
      "metadata": {
        "colab": {
          "base_uri": "https://localhost:8080/"
        },
        "id": "_8xRln4xUr0K",
        "outputId": "3a2ca106-36e6-4c2e-ef0e-85f19f03a659"
      },
      "outputs": [
        {
          "name": "stdout",
          "output_type": "stream",
          "text": [
            "            Date    High     Low\n",
            "0     2018-10-08  222.25  206.85\n",
            "1     2018-10-05  218.60  205.90\n",
            "2     2018-10-04  227.80  216.15\n",
            "3     2018-10-03  237.50  225.75\n",
            "4     2018-10-01  234.60  221.05\n",
            "...          ...     ...     ...\n",
            "1230  2013-10-14  161.45  157.70\n",
            "1231  2013-10-11  163.45  159.00\n",
            "1232  2013-10-10  160.80  155.85\n",
            "1233  2013-10-09  158.20  154.15\n",
            "1234  2013-10-08  157.80  155.20\n",
            "\n",
            "[1235 rows x 3 columns]\n"
          ]
        }
      ],
      "source": [
        "highlow = Stockprices[['Date','High','Low']]\n",
        "print(highlow)"
      ]
    },
    {
      "cell_type": "code",
      "execution_count": null,
      "metadata": {
        "id": "gFHwjxteVQ4u"
      },
      "outputs": [],
      "source": [
        "x = highlow['Date']\n",
        "y1 = highlow['High']\n",
        "y2 = highlow['Low']"
      ]
    },
    {
      "cell_type": "code",
      "execution_count": null,
      "metadata": {
        "colab": {
          "base_uri": "https://localhost:8080/",
          "height": 638
        },
        "id": "6VAU_GOUVc4Z",
        "outputId": "c4e8b465-7873-4f93-cbfa-ab5e2fabb2ce"
      },
      "outputs": [
        {
          "data": {
            "text/plain": [
              "<matplotlib.legend.Legend at 0x7f316238c390>"
            ]
          },
          "execution_count": 17,
          "metadata": {},
          "output_type": "execute_result"
        },
        {
          "data": {
            "image/png": "[encoded data removed]",
            "text/plain": [
              "<Figure size 720x720 with 1 Axes>"
            ]
          },
          "metadata": {},
          "output_type": "display_data"
        }
      ],
      "source": [
        "plt.figure(figsize = (10,10))\n",
        "plt.plot(x, y1, label='High')\n",
        "plt.plot(x, y2, label='Low')\n",
        "plt.xlabel('Date')\n",
        "plt.ylabel('High and Low prices')\n",
        "plt.title(\"High and Low prices by Date\")\n",
        "plt.legend()"
      ]
    },
    {
      "cell_type": "code",
      "execution_count": null,
      "metadata": {
        "id": "nibAT5lCSqpL"
      },
      "outputs": [],
      "source": [
        "x1 = stockprice['Date']\n",
        "y1 = stockprice['Open']\n",
        "y2 = stockprice['Close']"
      ]
    },
    {
      "cell_type": "code",
      "execution_count": null,
      "metadata": {
        "colab": {
          "base_uri": "https://localhost:8080/",
          "height": 638
        },
        "id": "jHPtugvdSLPY",
        "outputId": "59f24cc7-d7c8-478e-c08d-18fa22ba3160"
      },
      "outputs": [
        {
          "data": {
            "text/plain": [
              "<matplotlib.legend.Legend at 0x7f316149e190>"
            ]
          },
          "execution_count": 19,
          "metadata": {},
          "output_type": "execute_result"
        },
        {
          "data": {
            "image/png": "[encoded data removed]",
            "text/plain": [
              "<Figure size 720x720 with 1 Axes>"
            ]
          },
          "metadata": {},
          "output_type": "display_data"
        }
      ],
      "source": [
        "plt.figure(figsize = (10,10))\n",
        "plt.plot(x1, y1, label='Open')\n",
        "plt.plot(x1, y2, label='Close')\n",
        "  \n",
        "plt.xlabel('Date')\n",
        "plt.ylabel('Openning and Closing prices')\n",
        "plt.title(\"Open and Close prices by Date\")\n",
        "plt.legend()"
      ]
    },
    {
      "cell_type": "markdown",
      "metadata": {
        "id": "zeyWdlCiMHsy"
      },
      "source": [
        "Calculating the Exponential Moving Averages of the Closing Prices"
      ]
    },
    {
      "cell_type": "code",
      "execution_count": null,
      "metadata": {
        "colab": {
          "base_uri": "https://localhost:8080/"
        },
        "id": "7ZADTc1iHPcj",
        "outputId": "af4dc14d-ebee-4b74-8add-07d0a265d0d9"
      },
      "outputs": [
        {
          "name": "stdout",
          "output_type": "stream",
          "text": [
            "Collecting pandas_ta\n",
            "  Downloading pandas_ta-0.3.14b.tar.gz (115 kB)\n",
            "\u001b[?25l\r\u001b[K     |██▉                             | 10 kB 14.2 MB/s eta 0:00:01\r\u001b[K     |█████▊                          | 20 kB 19.2 MB/s eta 0:00:01\r\u001b[K     |████████▌                       | 30 kB 13.4 MB/s eta 0:00:01\r\u001b[K     |███████████▍                    | 40 kB 10.1 MB/s eta 0:00:01\r\u001b[K     |██████████████▎                 | 51 kB 4.6 MB/s eta 0:00:01\r\u001b[K     |█████████████████               | 61 kB 5.0 MB/s eta 0:00:01\r\u001b[K     |████████████████████            | 71 kB 4.6 MB/s eta 0:00:01\r\u001b[K     |██████████████████████▊         | 81 kB 5.2 MB/s eta 0:00:01\r\u001b[K     |█████████████████████████▋      | 92 kB 5.0 MB/s eta 0:00:01\r\u001b[K     |████████████████████████████▌   | 102 kB 4.3 MB/s eta 0:00:01\r\u001b[K     |███████████████████████████████▎| 112 kB 4.3 MB/s eta 0:00:01\r\u001b[K     |████████████████████████████████| 115 kB 4.3 MB/s \n",
            "\u001b[?25hRequirement already satisfied: pandas in /usr/local/lib/python3.7/dist-packages (from pandas_ta) (1.1.5)\n",
            "Requirement already satisfied: pytz>=2017.2 in /usr/local/lib/python3.7/dist-packages (from pandas->pandas_ta) (2018.9)\n",
            "Requirement already satisfied: numpy>=1.15.4 in /usr/local/lib/python3.7/dist-packages (from pandas->pandas_ta) (1.19.5)\n",
            "Requirement already satisfied: python-dateutil>=2.7.3 in /usr/local/lib/python3.7/dist-packages (from pandas->pandas_ta) (2.8.2)\n",
            "Requirement already satisfied: six>=1.5 in /usr/local/lib/python3.7/dist-packages (from python-dateutil>=2.7.3->pandas->pandas_ta) (1.15.0)\n",
            "Building wheels for collected packages: pandas-ta\n",
            "  Building wheel for pandas-ta (setup.py) ... \u001b[?25l\u001b[?25hdone\n",
            "  Created wheel for pandas-ta: filename=pandas_ta-0.3.14b0-py3-none-any.whl size=218923 sha256=ae21775063441fe77372fb6850af4c41f0e5c44c781ab7ea9aa3beb72f07a9e6\n",
            "  Stored in directory: /root/.cache/pip/wheels/0b/81/f0/cca85757840e4616a2c6b9fe12569d97d324c27cac60724c58\n",
            "Successfully built pandas-ta\n",
            "Installing collected packages: pandas-ta\n",
            "Successfully installed pandas-ta-0.3.14b0\n"
          ]
        }
      ],
      "source": [
        "!pip install pandas_ta\n"
      ]
    },
    {
      "cell_type": "code",
      "execution_count": null,
      "metadata": {
        "colab": {
          "base_uri": "https://localhost:8080/"
        },
        "id": "RkYDiy8zgIQQ",
        "outputId": "bb25c9a0-d108-4851-fdb3-9281700ddfb5"
      },
      "outputs": [
        {
          "name": "stdout",
          "output_type": "stream",
          "text": [
            "[X] Ooops!!! It's True, the series 'Close' was not found in Date, Open\n",
            "            Date    Open\n",
            "10    2018-09-21  235.00\n",
            "11    2018-09-19  235.95\n",
            "12    2018-09-18  237.90\n",
            "13    2018-09-17  233.15\n",
            "14    2018-09-14  223.45\n",
            "...          ...     ...\n",
            "1230  2013-10-14  160.85\n",
            "1231  2013-10-11  161.15\n",
            "1232  2013-10-10  156.00\n",
            "1233  2013-10-09  155.70\n",
            "1234  2013-10-08  157.00\n",
            "\n",
            "[1225 rows x 2 columns]\n"
          ]
        }
      ],
      "source": [
        "import pandas_ta\n",
        "Stockprice.ta.ema(close='Close', length=5, append=True)\n",
        "print(Stockprice)"
      ]
    },
    {
      "cell_type": "code",
      "execution_count": null,
      "metadata": {
        "colab": {
          "base_uri": "https://localhost:8080/"
        },
        "id": "wtbsLGmr0_-9",
        "outputId": "9ecc7b9c-02ac-4289-edef-d1caa9e5e3fe"
      },
      "outputs": [
        {
          "name": "stdout",
          "output_type": "stream",
          "text": [
            "            Date    Open\n",
            "15    2018-09-12  216.35\n",
            "16    2018-09-11  222.50\n",
            "17    2018-09-10  222.50\n",
            "18    2018-09-07  221.00\n",
            "19    2018-09-06  224.00\n",
            "...          ...     ...\n",
            "1230  2013-10-14  160.85\n",
            "1231  2013-10-11  161.15\n",
            "1232  2013-10-10  156.00\n",
            "1233  2013-10-09  155.70\n",
            "1234  2013-10-08  157.00\n",
            "\n",
            "[1220 rows x 2 columns]\n"
          ]
        }
      ],
      "source": [
        "# Drop the rows with Null values\n",
        "Stockprice = Stockprice.iloc[5:]\n",
        "print(Stockprice)"
      ]
    },
    {
      "cell_type": "code",
      "execution_count": null,
      "metadata": {
        "id": "HomeZbNs_QZU"
      },
      "outputs": [],
      "source": [
        "# Plot the current data after dropping Null values\n",
        "plt.figure(figsize = (20,20))\n",
        "Stockprice.plot(x=\"Date\", y=\"Close\", kind=\"line\")\n",
        "plt.show()"
      ]
    },
    {
      "cell_type": "markdown",
      "metadata": {
        "id": "jjjMh_jQ_-jc"
      },
      "source": [
        "Splitting the data into Training and Testing Sets"
      ]
    },
    {
      "cell_type": "code",
      "execution_count": null,
      "metadata": {
        "colab": {
          "base_uri": "https://localhost:8080/"
        },
        "id": "t4NSk8_Y_y_8",
        "outputId": "1f29e5fb-92ec-45f4-da38-9b207d3bd586"
      },
      "outputs": [
        {
          "name": "stdout",
          "output_type": "stream",
          "text": [
            "       Close\n",
            "10    234.60\n",
            "11    234.90\n",
            "12    235.05\n",
            "13    236.60\n",
            "14    233.95\n",
            "...      ...\n",
            "1230  159.45\n",
            "1231  160.05\n",
            "1232  160.15\n",
            "1233  155.55\n",
            "1234  155.80\n",
            "\n",
            "[1225 rows x 1 columns]\n",
            "           EMA_5\n",
            "10    233.109246\n",
            "11    233.706164\n",
            "12    234.154109\n",
            "13    234.969406\n",
            "14    234.629604\n",
            "...          ...\n",
            "1230  160.368375\n",
            "1231  160.262250\n",
            "1232  160.224833\n",
            "1233  158.666556\n",
            "1234  157.711037\n",
            "\n",
            "[1225 rows x 1 columns]\n"
          ]
        }
      ],
      "source": [
        "# Identifying the independent(x) and dependent(y) variable\n",
        "x = Stockprice[['Close']]\n",
        "print(x)\n",
        "y = Stockprice[['EMA_5']]\n",
        "print(y)"
      ]
    },
    {
      "cell_type": "code",
      "execution_count": null,
      "metadata": {
        "id": "6AUGP8CqAxmf"
      },
      "outputs": [],
      "source": [
        "# Splitting the data set into Training and Testing sets\n",
        "from sklearn.model_selection import train_test_split\n",
        "x_train, x_test, y_train, y_test = train_test_split(x,y,test_size = 0.2,random_state = 1)"
      ]
    },
    {
      "cell_type": "code",
      "execution_count": null,
      "metadata": {
        "colab": {
          "base_uri": "https://localhost:8080/"
        },
        "id": "kNWPOKfYBiKV",
        "outputId": "f81a97cf-762e-42eb-8f1b-6401ad7ff384"
      },
      "outputs": [
        {
          "name": "stdout",
          "output_type": "stream",
          "text": [
            "       Close\n",
            "592   119.95\n",
            "109   297.55\n",
            "591   120.05\n",
            "1201  145.50\n",
            "467   115.65\n",
            "...      ...\n",
            "725   132.65\n",
            "915   159.40\n",
            "1106  152.75\n",
            "245   209.40\n",
            "1071  154.05\n",
            "\n",
            "[980 rows x 1 columns]\n",
            "       Close\n",
            "696   133.85\n",
            "1159  144.25\n",
            "169   304.00\n",
            "925   157.35\n",
            "351   154.85\n",
            "...      ...\n",
            "1125  142.70\n",
            "319   151.15\n",
            "72    258.20\n",
            "854   141.95\n",
            "607   120.30\n",
            "\n",
            "[245 rows x 1 columns]\n",
            "           EMA_5\n",
            "592   119.978291\n",
            "109   291.528459\n",
            "591   119.992436\n",
            "1201  146.430861\n",
            "467   117.289692\n",
            "...          ...\n",
            "725   130.833353\n",
            "915   158.956991\n",
            "1106  153.393810\n",
            "245   209.959207\n",
            "1071  165.044764\n",
            "\n",
            "[980 rows x 1 columns]\n",
            "       Close\n",
            "696   133.85\n",
            "1159  144.25\n",
            "169   304.00\n",
            "925   157.35\n",
            "351   154.85\n",
            "...      ...\n",
            "1125  142.70\n",
            "319   151.15\n",
            "72    258.20\n",
            "854   141.95\n",
            "607   120.30\n",
            "\n",
            "[245 rows x 1 columns]\n"
          ]
        }
      ],
      "source": [
        "# Printing the test and train sets\n",
        "print(x_train)\n",
        "print(x_test)\n",
        "print(y_train)\n",
        "print(x_test)"
      ]
    },
    {
      "cell_type": "code",
      "execution_count": null,
      "metadata": {
        "colab": {
          "base_uri": "https://localhost:8080/"
        },
        "id": "YO638s6WBwRC",
        "outputId": "6d2048ea-502b-4181-ea5d-ea1628525e00"
      },
      "outputs": [
        {
          "data": {
            "text/plain": [
              "LinearRegression()"
            ]
          },
          "execution_count": 27,
          "metadata": {},
          "output_type": "execute_result"
        }
      ],
      "source": [
        "# Training the model\n",
        "from sklearn.linear_model import LinearRegression\n",
        "regressor = LinearRegression()\n",
        "regressor.fit(x_train, y_train)"
      ]
    },
    {
      "cell_type": "code",
      "execution_count": null,
      "metadata": {
        "colab": {
          "base_uri": "https://localhost:8080/"
        },
        "id": "LQx9MdqEDEYS",
        "outputId": "80b2ffa2-711a-49f2-b66d-a5ce769cdb2c"
      },
      "outputs": [
        {
          "name": "stdout",
          "output_type": "stream",
          "text": [
            "[[134.12772682]\n",
            " [144.47878061]\n",
            " [303.47693864]\n",
            " [157.51712721]\n",
            " [155.02889313]\n",
            " [133.18219786]\n",
            " [261.72437069]\n",
            " [117.65561717]\n",
            " [209.37192554]\n",
            " [196.53263767]\n",
            " [144.7773687 ]\n",
            " [134.12772682]\n",
            " [167.6193576 ]\n",
            " [132.88360977]\n",
            " [151.79418882]\n",
            " [145.22525084]\n",
            " [134.02819745]\n",
            " [152.59042373]\n",
            " [148.36042578]\n",
            " [300.34176369]\n",
            " [146.46936788]\n",
            " [283.67059532]\n",
            " [158.86077362]\n",
            " [147.41489683]\n",
            " [119.19832231]\n",
            " [141.34360566]\n",
            " [157.41759785]\n",
            " [150.84865987]\n",
            " [122.23396789]\n",
            " [129.84796419]\n",
            " [157.86547999]\n",
            " [203.05181097]\n",
            " [274.96177602]\n",
            " [147.71348492]\n",
            " [279.78895015]\n",
            " [267.99472059]\n",
            " [312.98199284]\n",
            " [145.02619211]\n",
            " [132.48549232]\n",
            " [157.61665658]\n",
            " [208.37663191]\n",
            " [278.2960097 ]\n",
            " [150.25148369]\n",
            " [288.00012263]\n",
            " [212.10898304]\n",
            " [171.20241468]\n",
            " [197.57769598]\n",
            " [270.33366063]\n",
            " [286.40765281]\n",
            " [159.15936171]\n",
            " [160.50300812]\n",
            " [153.28712927]\n",
            " [164.13582988]\n",
            " [157.41759785]\n",
            " [151.79418882]\n",
            " [274.36459984]\n",
            " [257.54413743]\n",
            " [148.16136706]\n",
            " [120.69126276]\n",
            " [158.21383276]\n",
            " [146.51913256]\n",
            " [152.29183564]\n",
            " [122.18420321]\n",
            " [254.95637398]\n",
            " [151.64489477]\n",
            " [322.38751768]\n",
            " [110.29044428]\n",
            " [118.9494989 ]\n",
            " [139.25348903]\n",
            " [142.13984057]\n",
            " [145.37454488]\n",
            " [159.80630257]\n",
            " [155.72559867]\n",
            " [141.64219375]\n",
            " [109.49420938]\n",
            " [134.32678554]\n",
            " [139.65160649]\n",
            " [134.82443236]\n",
            " [130.34561101]\n",
            " [236.49367707]\n",
            " [132.63478637]\n",
            " [118.50161676]\n",
            " [194.24346231]\n",
            " [157.0194804 ]\n",
            " [122.33349725]\n",
            " [126.81231861]\n",
            " [146.36983851]\n",
            " [158.46265617]\n",
            " [139.15395967]\n",
            " [136.01878472]\n",
            " [125.81702497]\n",
            " [280.53542037]\n",
            " [106.60785784]\n",
            " [149.00736664]\n",
            " [137.31266645]\n",
            " [147.7632496 ]\n",
            " [224.35109474]\n",
            " [134.22725618]\n",
            " [265.25766309]\n",
            " [129.0019646 ]\n",
            " [240.87296906]\n",
            " [107.05573997]\n",
            " [155.72559867]\n",
            " [118.84996954]\n",
            " [151.296542  ]\n",
            " [276.55424584]\n",
            " [147.71348492]\n",
            " [147.71348492]\n",
            " [237.09085325]\n",
            " [283.57106596]\n",
            " [278.64436247]\n",
            " [134.07796213]\n",
            " [155.62606931]\n",
            " [117.3072644 ]\n",
            " [139.15395967]\n",
            " [210.21792513]\n",
            " [142.98584016]\n",
            " [104.96562334]\n",
            " [144.52854529]\n",
            " [124.22455516]\n",
            " [156.96971572]\n",
            " [205.6893391 ]\n",
            " [122.13443853]\n",
            " [139.85066521]\n",
            " [120.34290999]\n",
            " [134.37655023]\n",
            " [268.54213208]\n",
            " [158.3631268 ]\n",
            " [255.60331484]\n",
            " [306.06470208]\n",
            " [178.81641098]\n",
            " [153.13783523]\n",
            " [147.86277897]\n",
            " [260.3309596 ]\n",
            " [166.57429928]\n",
            " [170.70476786]\n",
            " [120.44243935]\n",
            " [129.10149396]\n",
            " [241.96779206]\n",
            " [126.46396583]\n",
            " [131.29113996]\n",
            " [155.72559867]\n",
            " [140.34831203]\n",
            " [215.89109885]\n",
            " [122.08467385]\n",
            " [141.2440763 ]\n",
            " [264.85954564]\n",
            " [154.87959908]\n",
            " [153.68524672]\n",
            " [211.95968899]\n",
            " [119.84526317]\n",
            " [289.24423967]\n",
            " [128.30525906]\n",
            " [156.27301017]\n",
            " [150.45054241]\n",
            " [117.35702908]\n",
            " [118.9494989 ]\n",
            " [130.74372846]\n",
            " [278.64436247]\n",
            " [153.23736459]\n",
            " [222.8083896 ]\n",
            " [147.61395556]\n",
            " [139.50231244]\n",
            " [258.4399017 ]\n",
            " [155.52653995]\n",
            " [158.01477403]\n",
            " [124.22455516]\n",
            " [156.17348081]\n",
            " [235.24956003]\n",
            " [247.24284832]\n",
            " [128.80290587]\n",
            " [133.23196255]\n",
            " [141.84125248]\n",
            " [120.54196871]\n",
            " [283.86965405]\n",
            " [156.02418676]\n",
            " [154.92936377]\n",
            " [156.72089231]\n",
            " [290.73718012]\n",
            " [118.55138144]\n",
            " [150.89842455]\n",
            " [141.44313503]\n",
            " [287.30341708]\n",
            " [128.20572969]\n",
            " [157.71618594]\n",
            " [118.4020874 ]\n",
            " [140.29854735]\n",
            " [205.88839783]\n",
            " [174.43711899]\n",
            " [128.15596501]\n",
            " [143.78207507]\n",
            " [138.30796008]\n",
            " [152.29183564]\n",
            " [145.27501552]\n",
            " [156.96971572]\n",
            " [238.38473497]\n",
            " [168.51512187]\n",
            " [156.52183358]\n",
            " [141.99054652]\n",
            " [142.38866398]\n",
            " [158.96030298]\n",
            " [120.54196871]\n",
            " [266.35248609]\n",
            " [154.38195227]\n",
            " [169.60994487]\n",
            " [273.46883557]\n",
            " [159.70677321]\n",
            " [152.09277691]\n",
            " [164.58371202]\n",
            " [118.70067549]\n",
            " [137.90984263]\n",
            " [165.33018224]\n",
            " [153.03830586]\n",
            " [143.53325166]\n",
            " [265.95436864]\n",
            " [135.62066727]\n",
            " [122.88090875]\n",
            " [158.41289149]\n",
            " [105.66232889]\n",
            " [142.23936993]\n",
            " [153.08807054]\n",
            " [306.66187827]\n",
            " [128.65361183]\n",
            " [134.97372641]\n",
            " [264.16284009]\n",
            " [124.72220198]\n",
            " [166.12641715]\n",
            " [156.67112763]\n",
            " [264.16284009]\n",
            " [148.65901387]\n",
            " [159.20912639]\n",
            " [158.51242085]\n",
            " [125.71749561]\n",
            " [138.55678349]\n",
            " [286.65647622]\n",
            " [158.41289149]\n",
            " [290.38882735]\n",
            " [155.62606931]\n",
            " [153.486188  ]\n",
            " [155.3772459 ]\n",
            " [142.93607548]\n",
            " [151.34630668]\n",
            " [257.8924902 ]\n",
            " [142.18960525]\n",
            " [120.64149808]]\n"
          ]
        }
      ],
      "source": [
        "# Predicting the values\n",
        "y_predictor = regressor.predict(x_test)\n",
        "print(y_predictor)"
      ]
    },
    {
      "cell_type": "code",
      "execution_count": null,
      "metadata": {
        "colab": {
          "base_uri": "https://localhost:8080/"
        },
        "id": "NHL0Hl9cDTBL",
        "outputId": "ecad742e-f394-48a6-9243-01201b3797a0"
      },
      "outputs": [
        {
          "name": "stdout",
          "output_type": "stream",
          "text": [
            "r2 score is 0.9961079937906298\n",
            "mean_sqrd_error is== 11.795027593782551\n",
            "root_mean_squared error of is == 3.4343889694940715\n"
          ]
        }
      ],
      "source": [
        "# Performance of the model\n",
        "from sklearn.metrics import r2_score\n",
        "from sklearn.metrics import mean_squared_error\n",
        "score = r2_score(y_test,y_predictor)\n",
        "print('r2 score is',score)\n",
        "print('mean_sqrd_error is==',mean_squared_error(y_test,y_predictor))\n",
        "print('root_mean_squared error of is ==',np.sqrt(mean_squared_error(y_test,y_predictor)))"
      ]
    },
    {
      "cell_type": "code",
      "execution_count": null,
      "metadata": {
        "id": "w4Gip5aiHFAc"
      },
      "outputs": [],
      "source": [
        "from sklearn.preprocessing import StandardScaler\n",
        "sc = StandardScaler()\n",
        "sc.fit(x_train)\n",
        "x_train_std = sc.transform(x_train)\n",
        "x_test_std = sc.transform(x_test)"
      ]
    },
    {
      "cell_type": "code",
      "execution_count": null,
      "metadata": {
        "colab": {
          "base_uri": "https://localhost:8080/",
          "height": 1000
        },
        "id": "VgO0QbhfEwmw",
        "outputId": "9651d95e-7905-4fac-fafe-0822b42076a1"
      },
      "outputs": [
        {
          "data": {
            "image/png": "[encoded data removed]",
            "text/plain": [
              "<Figure size 1440x1440 with 1 Axes>"
            ]
          },
          "metadata": {},
          "output_type": "display_data"
        }
      ],
      "source": [
        "# Visualizing the training set\n",
        "plt.figure(figsize = (20,20))\n",
        "from sklearn.linear_model import LinearRegression\n",
        "plt.scatter(x_train, y_train, color = \"red\")\n",
        "plt.plot(x_train, regressor.predict(x_train), color = \"green\")\n",
        "plt.title(\"Stock Prices vs Moving Average (Training set)\")\n",
        "plt.xlabel(\"Closing Prices\")\n",
        "plt.ylabel(\"Moving Average\")\n",
        "plt.show()"
      ]
    },
    {
      "cell_type": "code",
      "execution_count": null,
      "metadata": {
        "colab": {
          "base_uri": "https://localhost:8080/",
          "height": 1000
        },
        "id": "g6TXGpP9LXaV",
        "outputId": "123af559-1b40-4469-edea-5776f1f9fced"
      },
      "outputs": [
        {
          "data": {
            "image/png": "[encoded data removed]",
            "text/plain": [
              "<Figure size 1440x1440 with 1 Axes>"
            ]
          },
          "metadata": {},
          "output_type": "display_data"
        }
      ],
      "source": [
        "# Visualizing the testing set\n",
        "plt.figure(figsize = (20,20))\n",
        "plt.scatter(x_test, y_test, color = \"red\")\n",
        "plt.plot(x_train, regressor.predict(x_train), color = \"green\")\n",
        "plt.title(\"Predicted Stock prices vs Moving Average(Testing set)\")\n",
        "plt.xlabel(\"Closing Prices\")\n",
        "plt.ylabel(\"Moving Average\")\n",
        "plt.show()"
      ]
    },
    {
      "cell_type": "markdown",
      "metadata": {
        "id": "VH04ylZZMrzd"
      },
      "source": [
        "BACKGROUND\n",
        "\n",
        "Stocks refers to units of ownership. They are bought and sold at the stock exchange market.The stock exchange prices in the stock market vary frequently during any given day. The opening prices represent the prices at which the stock are first traded in, in any given day while the closing prices are the prices at which the stocks are traded in before the market closes for any given day. The highs refer to the highest price at which the stocks are traded in while the lows refer to the lowest prices at which the stocks are traded in for the day.\n",
        "\n",
        "FEATURES OF THE DATASET\n",
        "\n",
        "The dataset comprises of various features:\n",
        "a.) Date - the date represents the day on which the stock prices were recorded.\n",
        "\n",
        "b.) Open - this feature represents the first price on any given date at which TATA GLOBAL stocks are traded in.\n",
        "\n",
        "c.) High - this feature represents the highest prices at which the TATA GLOBAL stocks were traded at.\n",
        "\n",
        "d.) Low - this feature represents the lowest prices at which TATA GLOBAL stocks were traded at in any given day in the dataset.\n",
        "\n",
        "e.) Close - the close feature represents the final price at which TATA GLOBAL stocks were traded at in all the days in the dataset.\n",
        "\n",
        "f.) Total Trade Quantity - this feature refers to the number of exchanges in terms of buying and selling of the TATA GLOBAL stocks.\n",
        "\n",
        "g.) Turnover - This attribute refers to the amount received by TATA GLOBAL from all the sales during the day.\n",
        "\n",
        "DESCRIPTION\n",
        "\n",
        "The model was trained on historical stock prices using the Closing prices and an Exponential Moving Average(EMA). The EMA was based on a 5 period interval, that is the closing prices of stocks was dependent on the moving average of the previous five days in the dataset.\n",
        "\n",
        "INFERENCE FROM THE VISUALIZATION OF ACTUAL PRICES\n",
        "\n",
        "The stock prices demonstrated a decreasing trend after the peak price was attained in January of 2018. Prior to the peak price, the stocks demonstrated a rising trend from the year 2013 to 2018.\n",
        "\n",
        "On the days when the predicted closing prices exceed the opening prices, then one can make a decision to buy the stocks at the opening prices and sell them at the closing prices just before the market closes.\n",
        "\n",
        "PERFORMANCE OF THE MODEL\n",
        "\n",
        "The model has an r-squared score of 0.99, which shows that the model is a good model with a good accuracy.\n",
        "\n"
      ]
    }
  ],
  "metadata": {
    "colab": {
      "name": "PREDICTION OF STOCK PRICES FOR TATA GLOBAL",
      "provenance": [],
      "authorship_tag": "ABX9TyMiDXf9Y91sic1OsiOli/Da",
      "include_colab_link": true
    },
    "kernelspec": {
      "display_name": "Python 3",
      "name": "python3"
    },
    "language_info": {
      "name": "python"
    }
  },
  "nbformat": 4,
  "nbformat_minor": 0
}